{
  "nbformat": 4,
  "nbformat_minor": 0,
  "metadata": {
    "kernelspec": {
      "display_name": "Python 3",
      "language": "python",
      "name": "python3"
    },
    "language_info": {
      "codemirror_mode": {
        "name": "ipython",
        "version": 3
      },
      "file_extension": ".py",
      "mimetype": "text/x-python",
      "name": "python",
      "nbconvert_exporter": "python",
      "pygments_lexer": "ipython3",
      "version": "3.7.3"
    },
    "colab": {
      "name": "Bản sao của Bản sao của bai-tap-pandas-series.ipynb",
      "provenance": [],
      "collapsed_sections": [],
      "include_colab_link": true
    }
  },
  "cells": [
    {
      "cell_type": "markdown",
      "metadata": {
        "id": "view-in-github",
        "colab_type": "text"
      },
      "source": [
        "<a href=\"https://colab.research.google.com/github/Anh-Quan-07/git/blob/master/pandas_series.ipynb\" target=\"_parent\"><img src=\"https://colab.research.google.com/assets/colab-badge.svg\" alt=\"Open In Colab\"/></a>"
      ]
    },
    {
      "cell_type": "markdown",
      "metadata": {
        "id": "tByf7VEDgOHn"
      },
      "source": [
        "Câu 1: Hãy tạo 1 đối tượng kiểu Series có tối thiểu 10 phần tử (kiểu số) với giá trị tùy ý thích của bạn. \n",
        "       In giá trị của Series đó ra màn hình"
      ]
    },
    {
      "cell_type": "code",
      "metadata": {
        "id": "YWgn0UlIgOHy",
        "colab": {
          "base_uri": "https://localhost:8080/"
        },
        "outputId": "8489f4e3-572d-4b33-ffd7-7423a4db61ad"
      },
      "source": [
        "import pandas as pd\r\n",
        "\r\n",
        "a = pd.Series([33,22,78,40,69,82,50,90,56,23])\r\n",
        "seri = pd.Series(a)\r\n",
        "print(seri)"
      ],
      "execution_count": null,
      "outputs": [
        {
          "output_type": "stream",
          "text": [
            "0    33\n",
            "1    22\n",
            "2    78\n",
            "3    40\n",
            "4    69\n",
            "5    82\n",
            "6    50\n",
            "7    90\n",
            "8    56\n",
            "9    23\n",
            "dtype: int64\n"
          ],
          "name": "stdout"
        }
      ]
    },
    {
      "cell_type": "markdown",
      "metadata": {
        "id": "ayhRCcuvgOH0"
      },
      "source": [
        "Câu 2: Hãy tạo 1 đối tượng kiểu Series với giá trị khởi tạo hình thành từ dữ liệu kiểu Dictionary. In kết quả ra màn hình"
      ]
    },
    {
      "cell_type": "code",
      "metadata": {
        "id": "0aNfmWrYgOH1",
        "colab": {
          "base_uri": "https://localhost:8080/"
        },
        "outputId": "530bdfa8-2ba8-48c4-c42d-cf56b7545d0c"
      },
      "source": [
        "import pandas as pd\r\n",
        "\r\n",
        "data = {'a' : 8, 'b' : 43, 'd' : 70, 'f': 11, 'g': 33}\r\n",
        "serserii = pd.Series(data,index=['a','c','b','d','e','f'])\r\n",
        "print(serserii)"
      ],
      "execution_count": null,
      "outputs": [
        {
          "output_type": "stream",
          "text": [
            "a     8.0\n",
            "c     NaN\n",
            "b    43.0\n",
            "d    70.0\n",
            "e     NaN\n",
            "f    11.0\n",
            "dtype: float64\n"
          ],
          "name": "stdout"
        }
      ]
    },
    {
      "cell_type": "markdown",
      "metadata": {
        "id": "1Y27xH9TgOH2"
      },
      "source": [
        "Câu 3: Sử dụng series ở câu 1, hãy thay đổi giá trị của cột index từ kiểu số theo kiểu ký tự với giá trị do bạn tự xác định."
      ]
    },
    {
      "cell_type": "code",
      "metadata": {
        "id": "9SuItpBEgOH2",
        "colab": {
          "base_uri": "https://localhost:8080/"
        },
        "outputId": "17ec5ecb-2d0b-4256-b069-12a2509f93f5"
      },
      "source": [
        "import pandas as pd\r\n",
        "index = ['a','b','c','d','e','f','g','h','i','j']\r\n",
        "a = [32,35,66,12,56,89,92,74,81,55]\r\n",
        "seri11 = pd.Series(a, index=index)\r\n",
        "seri11"
      ],
      "execution_count": null,
      "outputs": [
        {
          "output_type": "execute_result",
          "data": {
            "text/plain": [
              "a    32\n",
              "b    35\n",
              "c    66\n",
              "d    12\n",
              "e    56\n",
              "f    89\n",
              "g    92\n",
              "h    74\n",
              "i    81\n",
              "j    55\n",
              "dtype: int64"
            ]
          },
          "metadata": {
            "tags": []
          },
          "execution_count": 9
        }
      ]
    },
    {
      "cell_type": "markdown",
      "metadata": {
        "id": "ChjLVnCRgOH3"
      },
      "source": [
        "Câu 4: Sử dụng series ở câu 2, hãy truy cập đến phần tử thứ 5 và in ra màn hình"
      ]
    },
    {
      "cell_type": "code",
      "metadata": {
        "id": "0QdPruetgOH3",
        "colab": {
          "base_uri": "https://localhost:8080/"
        },
        "outputId": "829087cc-1b17-4e91-c214-d04e40870964"
      },
      "source": [
        "pd.DataFrame(serserii).iloc[4]"
      ],
      "execution_count": null,
      "outputs": [
        {
          "output_type": "execute_result",
          "data": {
            "text/plain": [
              "0   NaN\n",
              "Name: e, dtype: float64"
            ]
          },
          "metadata": {
            "tags": []
          },
          "execution_count": 8
        }
      ]
    },
    {
      "cell_type": "markdown",
      "metadata": {
        "id": "pCVIktwJgOH4"
      },
      "source": [
        "Câu 5: Sử dụng series ở câu 3, hãy truy cập đến 1 phần tử dựa theo chỉ số kiểu ký tự do bạn lựa chọn và in ra màn hình"
      ]
    },
    {
      "cell_type": "code",
      "metadata": {
        "id": "RBAlSeCigOH4",
        "colab": {
          "base_uri": "https://localhost:8080/"
        },
        "outputId": "8849ac42-725d-4518-a511-b0b67d39f103"
      },
      "source": [
        "seri11['a']"
      ],
      "execution_count": null,
      "outputs": [
        {
          "output_type": "execute_result",
          "data": {
            "text/plain": [
              "32"
            ]
          },
          "metadata": {
            "tags": []
          },
          "execution_count": 11
        }
      ]
    },
    {
      "cell_type": "markdown",
      "metadata": {
        "id": "gcPHJoOHgOH4"
      },
      "source": [
        "Câu 6: Sử dụng series ở câu 3, hãy tìm ra tính chất đặc thù trong các chỉ số kiểu kí tự, thực hiện vòng lặp for duyệt trên các chỉ mục kiểu kí tự này để lọc ra những phần tử thỏa mãn điều kiện và in ra màn hình"
      ]
    },
    {
      "cell_type": "code",
      "metadata": {
        "id": "r-RsOsjAgOH6",
        "colab": {
          "base_uri": "https://localhost:8080/"
        },
        "outputId": "1cbe3abd-4735-41fe-f74a-db4c6b28c13c"
      },
      "source": [
        "seri11[[name.endswith('2') for name in seri11.index]]"
      ],
      "execution_count": null,
      "outputs": [
        {
          "output_type": "execute_result",
          "data": {
            "text/plain": [
              "Series([], dtype: int64)"
            ]
          },
          "metadata": {
            "tags": []
          },
          "execution_count": 14
        }
      ]
    },
    {
      "cell_type": "markdown",
      "metadata": {
        "id": "KR7o4ZPDgOH7"
      },
      "source": [
        "Câu 7: Sử dụng series ở câu 1, hãy đổi tên cột index thành 'STT' và đặt tên cho series là 'Gia_tri'. In kết quả ra màn hình "
      ]
    },
    {
      "cell_type": "code",
      "metadata": {
        "id": "e80gvslggOH7",
        "colab": {
          "base_uri": "https://localhost:8080/"
        },
        "outputId": "25f1c310-1875-4fba-e94f-57e2c8e60384"
      },
      "source": [
        "seri.index.name = 'STT'\r\n",
        "seri.name = 'Gia_tri'\r\n",
        "seri"
      ],
      "execution_count": null,
      "outputs": [
        {
          "output_type": "execute_result",
          "data": {
            "text/plain": [
              "STT\n",
              "0    33\n",
              "1    22\n",
              "2    78\n",
              "3    40\n",
              "4    69\n",
              "5    82\n",
              "6    50\n",
              "7    90\n",
              "8    56\n",
              "9    23\n",
              "Name: Gia_tri, dtype: int64"
            ]
          },
          "metadata": {
            "tags": []
          },
          "execution_count": 15
        }
      ]
    },
    {
      "cell_type": "markdown",
      "metadata": {
        "id": "jsh3Sza-gOH7"
      },
      "source": [
        "Câu 8: Hãy áp dụng hàm logarith của gói numpy với series ở câu 1 và in kết quả ra màn hình"
      ]
    },
    {
      "cell_type": "code",
      "metadata": {
        "id": "WU2gFSFhgOH8",
        "colab": {
          "base_uri": "https://localhost:8080/"
        },
        "outputId": "2e9e6464-764e-4ab5-df70-66f048d15213"
      },
      "source": [
        "import numpy as np\r\n",
        "np.log(seri)"
      ],
      "execution_count": null,
      "outputs": [
        {
          "output_type": "execute_result",
          "data": {
            "text/plain": [
              "STT\n",
              "0    3.496508\n",
              "1    3.091042\n",
              "2    4.356709\n",
              "3    3.688879\n",
              "4    4.234107\n",
              "5    4.406719\n",
              "6    3.912023\n",
              "7    4.499810\n",
              "8    4.025352\n",
              "9    3.135494\n",
              "Name: Gia_tri, dtype: float64"
            ]
          },
          "metadata": {
            "tags": []
          },
          "execution_count": 16
        }
      ]
    },
    {
      "cell_type": "markdown",
      "metadata": {
        "id": "h8gONLNogOH8"
      },
      "source": [
        "Câu 9: Lọc các giá trị của series 1 > 15 và in ra màn hình"
      ]
    },
    {
      "cell_type": "code",
      "metadata": {
        "id": "rNrXmfywgOH8",
        "colab": {
          "base_uri": "https://localhost:8080/"
        },
        "outputId": "497b98c3-0b77-4128-e2c0-c2c387e53284"
      },
      "source": [
        "seri[seri > 15]"
      ],
      "execution_count": null,
      "outputs": [
        {
          "output_type": "execute_result",
          "data": {
            "text/plain": [
              "STT\n",
              "0    33\n",
              "1    22\n",
              "2    78\n",
              "3    40\n",
              "4    69\n",
              "5    82\n",
              "6    50\n",
              "7    90\n",
              "8    56\n",
              "9    23\n",
              "Name: Gia_tri, dtype: int64"
            ]
          },
          "metadata": {
            "tags": []
          },
          "execution_count": 18
        }
      ]
    }
  ]
}