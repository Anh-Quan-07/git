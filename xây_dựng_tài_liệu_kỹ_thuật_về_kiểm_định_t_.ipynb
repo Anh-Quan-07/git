{
  "nbformat": 4,
  "nbformat_minor": 0,
  "metadata": {
    "colab": {
      "name": "xây dựng tài liệu kỹ thuật về kiểm định t .ipynb",
      "provenance": [],
      "collapsed_sections": [],
      "authorship_tag": "ABX9TyOSgqYXfXDBqcDncQifRUED",
      "include_colab_link": true
    },
    "kernelspec": {
      "name": "python3",
      "display_name": "Python 3"
    },
    "language_info": {
      "name": "python"
    }
  },
  "cells": [
    {
      "cell_type": "markdown",
      "metadata": {
        "id": "view-in-github",
        "colab_type": "text"
      },
      "source": [
        "<a href=\"https://colab.research.google.com/github/Anh-Quan-07/git/blob/master/x%C3%A2y_d%E1%BB%B1ng_t%C3%A0i_li%E1%BB%87u_k%E1%BB%B9_thu%E1%BA%ADt_v%E1%BB%81_ki%E1%BB%83m_%C4%91%E1%BB%8Bnh_t_.ipynb\" target=\"_parent\"><img src=\"https://colab.research.google.com/assets/colab-badge.svg\" alt=\"Open In Colab\"/></a>"
      ]
    },
    {
      "cell_type": "markdown",
      "metadata": {
        "id": "5BUbpFhcz0B5"
      },
      "source": [
        "##HƯỚNG DẪN SUY DIỄN THỐNG KÊ BẰNG GÓI STATS CỦA THƯ VIỆN SCIPYs##"
      ]
    },
    {
      "cell_type": "markdown",
      "metadata": {
        "id": "VLl7JzZCz7r_"
      },
      "source": [
        "1.Các thư viên cần thiết"
      ]
    },
    {
      "cell_type": "code",
      "metadata": {
        "colab": {
          "base_uri": "https://localhost:8080/"
        },
        "id": "QmaUjDwmzkZl",
        "outputId": "deea4b46-116f-4f1a-c2dd-cdb4fa1bcca5"
      },
      "source": [
        "import numpy as np\n",
        "import pandas as pd\n",
        "import random\n",
        "from scipy import stats\n",
        "from statsmodels.stats.weightstats import ztest\n",
        "import warnings\n",
        "import matplotlib.pyplot as plt\n",
        "import seaborn as sns\n",
        "%matplotlib inline\n",
        "from statsmodels.stats import weightstats"
      ],
      "execution_count": 1,
      "outputs": [
        {
          "output_type": "stream",
          "text": [
            "/usr/local/lib/python3.7/dist-packages/statsmodels/tools/_testing.py:19: FutureWarning: pandas.util.testing is deprecated. Use the functions in the public API at pandas.testing instead.\n",
            "  import pandas.util.testing as tm\n"
          ],
          "name": "stderr"
        }
      ]
    },
    {
      "cell_type": "markdown",
      "metadata": {
        "id": "k1vYKmwRzjg1"
      },
      "source": [
        "2.Thiết lập định dạng hình ảnh"
      ]
    },
    {
      "cell_type": "code",
      "metadata": {
        "id": "0hpHfUNCznC-"
      },
      "source": [
        "sns.set(rc={'figure.figsize':(13, 7.5)})\n",
        "sns.set_context('talk')\n"
      ],
      "execution_count": 3,
      "outputs": []
    },
    {
      "cell_type": "markdown",
      "metadata": {
        "id": "750VzLzg0YrJ"
      },
      "source": [
        "3.Tắt các cảnh báo của scipy"
      ]
    },
    {
      "cell_type": "code",
      "metadata": {
        "id": "T-R3-bpG0ZaX"
      },
      "source": [
        "warnings.filterwarnings('ignore')"
      ],
      "execution_count": 4,
      "outputs": []
    },
    {
      "cell_type": "markdown",
      "metadata": {
        "id": "S8Jb93uj0aBM"
      },
      "source": [
        "Một số lưu ý khi kiểm định giả thuyết trong thống kê suy diễn (1) Cỡ mẫu thường nhỏ ( n<30 ) để có ý nghĩa thống kê\n",
        "(2) Các mẫu quan sát được (sample observations) phải được lựa chọn ngẫu nhiên từ quần thể\n",
        "\n",
        "(3) Các đại lượng như trung bình mẫu (sample mean), độ lệch chuẩn của mẫu (standard deviation), phương sai mẫu (sample variance) được tính từ tập mẫu quan sát được.\n",
        "\n",
        "(4) Giả định rằng quần thể được nghiên cứu lấy mẫu xấp xỉ với phân phối chuẩn.\n",
        "\n",
        "Các bước thực hiện kiểm định giả thuyết (sử dụng kiểm định t)\n",
        "Bước 1: Thực hiện các phép đo, hay thu thập dữ liệu quan sát\n",
        "\n",
        "Bước 2: Phát biểu giả thuyết H0 và giả thuyết thay thế Ha\n",
        "\n",
        "Bước 3: Xác định mức α (hay khoảng tin cậy)\n",
        "\n",
        "Bước 4: Lấy mẫu và tính toán các đại lượng thống kê của mẫu\n",
        "\n",
        "Bước 5: Thực hiện kiểm định t (t-test)\n",
        "\n",
        "Bước 6: Kết luận dựa vào kết quả kiểm định\n",
        "\n",
        "KIỂM ĐỊNH GIẢ THUYẾT MỘT ĐUÔI\n",
        "\n",
        "Kỹ thuật sinh dữ liệu ngẫu nhiên Sinh các mẫu ngẫu nhiên lấy ra từ phân phối chuẩn bằng hàm random.normal() với các tham số:\n",
        "mean: giá trị trung bình của quần thể\n",
        "\n",
        "scale: độ lệch chuẩn của quần thể (không âm)\n",
        "\n",
        "size: kích thước mẫu"
      ]
    },
    {
      "cell_type": "code",
      "metadata": {
        "id": "wicb_M_70amK"
      },
      "source": [
        "#Sinh ngẫu nhiên 20 mẫu tuân theo phân phối chuẩn có trung bình mẫu là 1 và độ lệch chuẩn là 0.1\n",
        "mean = 1\n",
        "std = 0.1\n",
        "N = 20\n",
        "samples = np.random.normal(mean, std, N)"
      ],
      "execution_count": 5,
      "outputs": []
    },
    {
      "cell_type": "code",
      "metadata": {
        "colab": {
          "base_uri": "https://localhost:8080/"
        },
        "id": "0Oah7Eqp0bU3",
        "outputId": "deaf1b9a-0a65-4388-c21f-d797e282dddd"
      },
      "source": [
        "#In ra 10 phần tử đầu tiên\n",
        "print(samples[:10])"
      ],
      "execution_count": 6,
      "outputs": [
        {
          "output_type": "stream",
          "text": [
            "[0.85782778 1.03162187 1.147195   0.94501389 1.00612884 0.88820524\n",
            " 1.23498962 1.07233548 1.00313045 0.89136105]\n"
          ],
          "name": "stdout"
        }
      ]
    },
    {
      "cell_type": "code",
      "metadata": {
        "colab": {
          "base_uri": "https://localhost:8080/"
        },
        "id": "QnaADwzg0cMr",
        "outputId": "77211379-db23-41cf-d2c3-a5519466c9a9"
      },
      "source": [
        "#In ra các giá trị max, min của samples\n",
        "print('Max: ', max(samples))\n",
        "print('Min: ', min(samples))"
      ],
      "execution_count": 7,
      "outputs": [
        {
          "output_type": "stream",
          "text": [
            "Max:  1.3588988237173725\n",
            "Min:  0.8050528012568442\n"
          ],
          "name": "stdout"
        }
      ]
    },
    {
      "cell_type": "code",
      "metadata": {
        "colab": {
          "base_uri": "https://localhost:8080/",
          "height": 469
        },
        "id": "t-nGGJ2D1nj0",
        "outputId": "f7f56b25-f2bf-4ee4-91b8-a35cb8827d93"
      },
      "source": [
        "#Vẽ histogram của mẫu vừa được sinh ngẫu nhiên\n",
        "plt.hist(samples, 30, density=True)\n",
        "plt.show()"
      ],
      "execution_count": 8,
      "outputs": [
        {
          "output_type": "display_data",
          "data": {
            "image/png": "[encoded data removed]",
            "text/plain": [
              "<Figure size 936x540 with 1 Axes>"
            ]
          },
          "metadata": {
            "tags": []
          }
        }
      ]
    },
    {
      "cell_type": "code",
      "metadata": {
        "colab": {
          "base_uri": "https://localhost:8080/",
          "height": 469
        },
        "id": "PjWhaLJd1n7R",
        "outputId": "561a7f44-4fb3-45de-ec77-2e73b573e0f9"
      },
      "source": [
        "#Vẽ đường phân phối chuẩn cùng với histogram\n",
        "count, bins, ignored = plt.hist(samples, 30, density=True)\n",
        "plt.plot(bins, 1/(std * np.sqrt(2 * np.pi)) * np.exp( - (bins - mean)**2 / (2 * std**2) ),\n",
        "         linewidth=2, color='r')\n",
        "plt.show()"
      ],
      "execution_count": 9,
      "outputs": [
        {
          "output_type": "display_data",
          "data": {
            "image/png": "[encoded data removed]",
            "text/plain": [
              "<Figure size 936x540 with 1 Axes>"
            ]
          },
          "metadata": {
            "tags": []
          }
        }
      ]
    },
    {
      "cell_type": "code",
      "metadata": {
        "colab": {
          "base_uri": "https://localhost:8080/",
          "height": 533
        },
        "id": "ooRac-VA1oRo",
        "outputId": "fcb8e3f1-087d-4946-f7c6-a6199907b3f6"
      },
      "source": [
        "#Sinh ngẫu nhiên 6000 mẫu theo phân phối chuẩn có mean = 0 và std = 10\n",
        "samples = np.random.normal(loc=0, scale=10, size=6000)\n",
        "#Minh họa một đuôi và mức alpha = 0.05\n",
        "two_std_from_mean = np.mean(samples) + np.std(samples)*1.645\n",
        "#kernel density\n",
        "kde = stats.gaussian_kde(samples)\n",
        "#Trả về 10000 giá trị phân bố bằng nhau trong khoảng từ min tới max của samples \n",
        "pos = np.linspace(np.min(samples), np.max(samples), 10000)\n",
        "plt.plot(pos, kde(pos), color='teal')\n",
        "shade = np.linspace(two_std_from_mean, 40, 300)\n",
        "plt.fill_between(shade, kde(shade), alpha=0.45, color='teal')\n",
        "plt.title(\"Phân phối mẫu của kiểm định giả thuyết 1 đuôi\", y=1.015, fontsize=20)\n",
        "plt.xlabel(\"giá trị trung bình mẫu\", labelpad=14)\n",
        "plt.ylabel(\"tần suất xuất hiện\", labelpad=14);"
      ],
      "execution_count": 10,
      "outputs": [
        {
          "output_type": "display_data",
          "data": {
            "image/png": "[encoded data removed]",
            "text/plain": [
              "<Figure size 936x540 with 1 Axes>"
            ]
          },
          "metadata": {
            "tags": []
          }
        }
      ]
    },
    {
      "cell_type": "code",
      "metadata": {
        "colab": {
          "base_uri": "https://localhost:8080/",
          "height": 321
        },
        "id": "yReFi4H31ooz",
        "outputId": "edda5df2-541f-4a54-e888-c11f4daae277"
      },
      "source": [
        "# Sử dụng hình minh họa\n",
        "from IPython.display import Image\n",
        "from IPython.core.display import HTML \n",
        "Image(url= \"https://media.geeksforgeeks.org/wp-content/uploads/20201028032933/Screenshot37.png\", width=300, height=300)"
      ],
      "execution_count": 11,
      "outputs": [
        {
          "output_type": "execute_result",
          "data": {
            "text/html": [
              "<img src=\"https://media.geeksforgeeks.org/wp-content/uploads/20201028032933/Screenshot37.png\" width=\"300\" height=\"300\"/>"
            ],
            "text/plain": [
              "<IPython.core.display.Image object>"
            ]
          },
          "metadata": {
            "tags": []
          },
          "execution_count": 11
        }
      ]
    },
    {
      "cell_type": "code",
      "metadata": {
        "colab": {
          "base_uri": "https://localhost:8080/",
          "height": 321
        },
        "id": "y4csxPZn1o_P",
        "outputId": "121daca4-5017-4258-a485-6cc110a86451"
      },
      "source": [
        "Image(url= \"https://media.geeksforgeeks.org/wp-content/uploads/20201028032937/Screenshot39.png\", width=300, height=300)"
      ],
      "execution_count": 12,
      "outputs": [
        {
          "output_type": "execute_result",
          "data": {
            "text/html": [
              "<img src=\"https://media.geeksforgeeks.org/wp-content/uploads/20201028032937/Screenshot39.png\" width=\"300\" height=\"300\"/>"
            ],
            "text/plain": [
              "<IPython.core.display.Image object>"
            ]
          },
          "metadata": {
            "tags": []
          },
          "execution_count": 12
        }
      ]
    },
    {
      "cell_type": "code",
      "metadata": {
        "colab": {
          "base_uri": "https://localhost:8080/",
          "height": 321
        },
        "id": "0TMiLNDx1pYt",
        "outputId": "467eca15-0542-47a3-e6b5-b9f8b569a136"
      },
      "source": [
        "Image(url= \"https://media.geeksforgeeks.org/wp-content/uploads/20201028032935/Screenshot38.png\", width=300, height=300)"
      ],
      "execution_count": 13,
      "outputs": [
        {
          "output_type": "execute_result",
          "data": {
            "text/html": [
              "<img src=\"https://media.geeksforgeeks.org/wp-content/uploads/20201028032935/Screenshot38.png\" width=\"300\" height=\"300\"/>"
            ],
            "text/plain": [
              "<IPython.core.display.Image object>"
            ]
          },
          "metadata": {
            "tags": []
          },
          "execution_count": 13
        }
      ]
    },
    {
      "cell_type": "markdown",
      "metadata": {
        "id": "F9yxD9CX2DLh"
      },
      "source": [
        "Xây dựng một kiểm định t cụ thể với số liệu được sinh ngẫu nhiên theo phân phối chuẩn\n",
        "Bài toán: Cân thử 15 con gà tây ở 1 trại chăn nuôi khi xuất chuồng ta tính được $\\overline{\\rm x} = 3.62kg$. Cho biết σ = 0.1. Giám đốc trại tuyên bố trọng lương trung bình của gà tây là 3, 5kg thì có tin được không với mức ý nghĩa α =1%.\n",
        "\n",
        "Xây dựng giả thuyết\n",
        "\n",
        "$$H_{0}: \\mu = 3.5kg$$\n",
        "Giả thuyết thay thế:\n",
        "\n",
        "$$H_{a}: \\mu \\neq 3.5kg $$\n",
        "Giải:\n",
        "\n",
        "Với:\n",
        "\n",
        "sig = 0.01\n",
        "chỉ số t tương ứng = 2.58\n",
        "Công thức:$$Z = \\frac{(\\overline{\\rm X} - \\mu)}{(\\sigma / \\sqrt{n})}$$\n",
        "\n",
        "Áp dụng với các giá trị nêu trên:\n",
        "\n",
        "$\\overline{\\rm x} = 3.62kg$\n",
        "$\\mu = 3.5$\n",
        "$\\sigma = 0.1$\n",
        "$n = 15$\n",
        "$\\alpha = 0.01$\n",
        "$$t = \\frac{(3.62 - 3.5)}{(0.1 / \\sqrt{15})} = 4.6$$\n",
        "Giá trị t = 4.6 > 2.58 nên có bằng chứng để bác bỏ giả thuyết $H_{0}$\n",
        "\n",
        "Lập trình Python cho bài toán nêu trên"
      ]
    },
    {
      "cell_type": "code",
      "metadata": {
        "colab": {
          "base_uri": "https://localhost:8080/"
        },
        "id": "9m08ez0U1puh",
        "outputId": "c4b35ed8-9cfb-42cb-b5b4-99bdc3179307"
      },
      "source": [
        "#Sinh ngẫu nhiên một mẫu 15 phần tử có trung bình mẫu là 3.62, độ lệch chuẩn là 0.1\n",
        "sample1 = np.random.normal(3.62, 0.1, 15)\n",
        "print(sample1)"
      ],
      "execution_count": 14,
      "outputs": [
        {
          "output_type": "stream",
          "text": [
            "[3.52687206 3.56176813 3.74514594 3.67124808 3.62453026 3.57459252\n",
            " 3.51757321 3.62286804 3.66533786 3.63358768 3.74551348 3.74076788\n",
            " 3.65616522 3.75916503 3.66723083]\n"
          ],
          "name": "stdout"
        }
      ]
    },
    {
      "cell_type": "code",
      "metadata": {
        "id": "1rkp-F2l2Gdt"
      },
      "source": [
        "#Xác định các thông số\n",
        "null_mean = 3.5\n",
        "alpha = 0.01"
      ],
      "execution_count": 16,
      "outputs": []
    },
    {
      "cell_type": "code",
      "metadata": {
        "colab": {
          "base_uri": "https://localhost:8080/"
        },
        "id": "TiSsLAlD2Gsa",
        "outputId": "1fce15af-a437-41a9-9e5a-8d145e74944b"
      },
      "source": [
        "#Kiểm định t\n",
        "import statsmodels\n",
        "ttest, p_value = stats.ttest_1samp(sample1, null_mean)\n",
        "print('t = ', ttest, '; p = ', p_value)\n",
        "if(p_value <  alpha):\n",
        "  print(\"Có bằng chứng để bác bỏ giả thuyết H0\")\n",
        "else:\n",
        "  print(\"Chưa có bằng chứng để bác bỏ giả thuyết H0\")"
      ],
      "execution_count": 17,
      "outputs": [
        {
          "output_type": "stream",
          "text": [
            "t =  7.242907028684696 ; p =  4.270548148708007e-06\n",
            "Có bằng chứng để bác bỏ giả thuyết H0\n"
          ],
          "name": "stdout"
        }
      ]
    },
    {
      "cell_type": "markdown",
      "metadata": {
        "id": "Zb_oXLWD2UyK"
      },
      "source": [
        "Kiểm định giả thuyết 2-đuôi\n",
        "\n",
        "Một cách tổng quát, giả sử chúng ta có 2 quần thể độc lập và tuân theo phân phối chuẩn. Lấy ra 2 mẫu ngẫu nhiên tử 2 quần thể này.\n",
        "\n",
        "Xây dựng giả thuyết:\n",
        "\n",
        "$$H_{0}: \\mu_{1} = \\mu_{2}$$\n",
        "Giả thuyết thay thế:\n",
        "\n",
        "$$H_{a}: \\mu_{1} \\neq \\mu_{2}$$\n",
        "Thực hiện kiểm định t và so sánh với giá trị $t_{\\frac{\\alpha}{2}}$ để đi đến kết luận cuối cùng.\n",
        "\n",
        "Bài Toán: Đo đường kính 20 trục máy do máy I sản xuất và 22 trục máy do máy II sản xuất ta tính được $\\overline{\\rm x_{1}} =251$, 7; $s_{1}$ = 52, 853 và $\\overline{\\rm x_{2}} =249.8$; $s_{1}$ = 56.2. Mức ý nghĩa 1%.\n",
        "\n",
        "Kiểm định t 2 đuôi"
      ]
    },
    {
      "cell_type": "code",
      "metadata": {
        "colab": {
          "base_uri": "https://localhost:8080/"
        },
        "id": "N4tqJfU82G6X",
        "outputId": "1b31b6d3-1f65-4b59-d975-9c8fd5879be6"
      },
      "source": [
        "#Lập trình python minh họa\n",
        "#Sinh ngẫu nhiên sample 1 có 20 phần tử với mean = 251, std có hiệu chỉnh = 52,853\n",
        "samples_1 = np.random.normal(251, 52.853, 20)\n",
        "print(samples_1)"
      ],
      "execution_count": 18,
      "outputs": [
        {
          "output_type": "stream",
          "text": [
            "[234.87703779 244.86504566 113.99876533 180.40905586 208.96748706\n",
            " 277.54374927 275.52912459 270.34591453 275.12900759 318.1437328\n",
            " 334.89162326 255.53485621 212.87727287 268.68470181 161.34669656\n",
            " 211.44077398 246.35867969 252.07711642 219.04527745 323.06813916]\n"
          ],
          "name": "stdout"
        }
      ]
    },
    {
      "cell_type": "code",
      "metadata": {
        "colab": {
          "base_uri": "https://localhost:8080/"
        },
        "id": "u8w51b6v2HQZ",
        "outputId": "fd839416-c5c3-4d09-b97e-16e3d7b0495d"
      },
      "source": [
        "#Sinh ngẫu nhiên sample 2 có 22 phần tử với mean = 249.2 std = 56.2\n",
        "samples_2 = np.random.normal(249.2, 56.2, 22)\n",
        "print(samples_2)"
      ],
      "execution_count": 19,
      "outputs": [
        {
          "output_type": "stream",
          "text": [
            "[320.00939959 142.89699954 187.1329151  274.47207895 185.96911999\n",
            " 100.58588025 295.51921061 210.45386981 283.75257704 166.3465513\n",
            " 218.47744225 231.88316768 244.23324029 251.49377358 263.66621128\n",
            " 193.23173029 238.73075418 237.33159373 192.06361937 235.56800313\n",
            " 280.19932465 249.18753409]\n"
          ],
          "name": "stdout"
        }
      ]
    },
    {
      "cell_type": "code",
      "metadata": {
        "colab": {
          "base_uri": "https://localhost:8080/"
        },
        "id": "_MGlcNk12Hnk",
        "outputId": "bb9257b0-e054-457f-d6a6-baef9a8745ff"
      },
      "source": [
        "#Kiểm định giả thuyết\n",
        "#T-test cho phương tiện của hai mẫu độc lập từ thống kê mô tả. Từ bài toán trên\n",
        "alpha1 = 0.01\n",
        "ttest_score, p_value = stats.ttest_ind_from_stats(mean1 = 251, mean2 = 249.2, std1 = 52.853, std2 = 56.2, nobs1 = 20, nobs2 = 22)\n",
        "print('t = ', ttest_score, '; p = ', p_value)\n",
        "if(p_value <  alpha1):\n",
        "  print(\"Có bằng chứng để bác bỏ giả thuyết H0\")\n",
        "else:\n",
        "  print(\"Chưa có bằng chứng để bác bỏ giả thuyết H0\")"
      ],
      "execution_count": 20,
      "outputs": [
        {
          "output_type": "stream",
          "text": [
            "t =  0.10663439652131487 ; p =  0.9156120538802968\n",
            "Chưa có bằng chứng để bác bỏ giả thuyết H0\n"
          ],
          "name": "stdout"
        }
      ]
    },
    {
      "cell_type": "code",
      "metadata": {
        "colab": {
          "base_uri": "https://localhost:8080/"
        },
        "id": "Zx00yHp02H4_",
        "outputId": "26b68e8b-92b1-4a77-d0e1-5a259be1d5fe"
      },
      "source": [
        "#Kiểm định giả thuyết:\n",
        "#Tính toán kiểm tra T cho giá trị trung bình của hai mẫu điểm độc lập . \n",
        "alpha1 = 0.01\n",
        "ttest_score1, p_value1 = stats.ttest_ind(samples_1, samples_2, axis=0, equal_var=True, nan_policy='propagate')\n",
        "print('t_score = ', ttest_score1, '; p_value = ', p_value1)\n",
        "if(p_value <  alpha1):\n",
        "  print(\"Có bằng chứng để bác bỏ giả thuyết H0\")\n",
        "else:\n",
        "  print(\"Chưa có bằng chứng để bác bỏ giả thuyết H0\")"
      ],
      "execution_count": 21,
      "outputs": [
        {
          "output_type": "stream",
          "text": [
            "t_score =  1.021883843320742 ; p_value =  0.31297672243733926\n",
            "Chưa có bằng chứng để bác bỏ giả thuyết H0\n"
          ],
          "name": "stdout"
        }
      ]
    },
    {
      "cell_type": "code",
      "metadata": {
        "id": "LHBXmhCe2ISO"
      },
      "source": [
        ""
      ],
      "execution_count": null,
      "outputs": []
    },
    {
      "cell_type": "code",
      "metadata": {
        "id": "ZNmMclUN2IpY"
      },
      "source": [
        ""
      ],
      "execution_count": null,
      "outputs": []
    }
  ]
}